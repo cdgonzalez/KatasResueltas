{
 "cells": [
  {
   "cell_type": "code",
   "execution_count": 8,
   "metadata": {},
   "outputs": [
    {
     "name": "stdout",
     "output_type": "stream",
     "text": [
      "La distancia entre la Tierra y Júpiter es: 628949330 KM\n",
      "La distancia entre la Tierra y Júpiter es: 390577533.93 millas\n"
     ]
    }
   ],
   "source": [
    "distanciaTierra = 149597870 \n",
    "distanciaJupiter = 778547200 \n",
    "\n",
    "distanciaKM = distanciaJupiter - distanciaTierra\n",
    "\n",
    "print(\"La distancia entre la Tierra y Júpiter es: \" + str(distanciaKM) + \" KM\")\n",
    "print(\"La distancia entre la Tierra y Júpiter es: \" + str(distanciaKM*0.621)+ \" millas\")\n",
    "\n"
   ]
  },
  {
   "cell_type": "code",
   "execution_count": 13,
   "metadata": {},
   "outputs": [
    {
     "name": "stdout",
     "output_type": "stream",
     "text": [
      "La distancia es: 50300000 km\n",
      "La distancia es: 31236300.0 millas\n"
     ]
    }
   ],
   "source": [
    "###Ejercicio 2: convierte cadenas en números y usa valores absolutos\n",
    "distancia1erPlaneta = input(\"¿Cuál es la distancia del primer planeta al sol?\")\n",
    "distancia2doPlaneta = input(\"¿Cuál es la distancia del segundo planeta al sol?\")\n",
    "\n",
    "\n",
    "distanciaEntrePlanetas = (abs(int(distancia1erPlaneta) - int(distancia2doPlaneta)))\n",
    "print(\"La distancia es: \" + str(distanciaEntrePlanetas) + \" km\")\n",
    "print(\"La distancia es: \" + str(distanciaEntrePlanetas*0.621) + \" millas\")"
   ]
  }
 ],
 "metadata": {
  "interpreter": {
   "hash": "d7bf1f1811ac0b76c6169566f335ea8de8b49261080a5399e8a4254be01cc13e"
  },
  "kernelspec": {
   "display_name": "Python 3.10.0 64-bit",
   "name": "python3"
  },
  "language_info": {
   "codemirror_mode": {
    "name": "ipython",
    "version": 3
   },
   "file_extension": ".py",
   "mimetype": "text/x-python",
   "name": "python",
   "nbconvert_exporter": "python",
   "pygments_lexer": "ipython3",
   "version": "3.10.0"
  },
  "orig_nbformat": 4
 },
 "nbformat": 4,
 "nbformat_minor": 2
}
